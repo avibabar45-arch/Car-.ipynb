{
 "cells": [
  {
   "cell_type": "code",
   "execution_count": 6,
   "id": "435df865-e103-40b3-9a82-950bf7cd3494",
   "metadata": {},
   "outputs": [],
   "source": [
    "import pandas as pd\n",
    "import numpy as np\n",
    "import matplotlib.pyplot as plt\n",
    "import seaborn as sns"
   ]
  },
  {
   "cell_type": "code",
   "execution_count": 16,
   "id": "1a3fd22d-9bc0-4092-98fc-af95fcf01341",
   "metadata": {},
   "outputs": [
    {
     "data": {
      "text/html": [
       "<div>\n",
       "<style scoped>\n",
       "    .dataframe tbody tr th:only-of-type {\n",
       "        vertical-align: middle;\n",
       "    }\n",
       "\n",
       "    .dataframe tbody tr th {\n",
       "        vertical-align: top;\n",
       "    }\n",
       "\n",
       "    .dataframe thead th {\n",
       "        text-align: right;\n",
       "    }\n",
       "</style>\n",
       "<table border=\"1\" class=\"dataframe\">\n",
       "  <thead>\n",
       "    <tr style=\"text-align: right;\">\n",
       "      <th></th>\n",
       "      <th>Car_Name</th>\n",
       "      <th>Year</th>\n",
       "      <th>Selling_Price</th>\n",
       "      <th>Present_Price</th>\n",
       "      <th>Kms_Driven</th>\n",
       "      <th>Fuel_Type</th>\n",
       "      <th>Seller_Type</th>\n",
       "      <th>Transmission</th>\n",
       "      <th>Owner</th>\n",
       "    </tr>\n",
       "  </thead>\n",
       "  <tbody>\n",
       "    <tr>\n",
       "      <th>0</th>\n",
       "      <td>ritz</td>\n",
       "      <td>2014</td>\n",
       "      <td>3.35</td>\n",
       "      <td>5.59</td>\n",
       "      <td>27000</td>\n",
       "      <td>Petrol</td>\n",
       "      <td>Dealer</td>\n",
       "      <td>Manual</td>\n",
       "      <td>0</td>\n",
       "    </tr>\n",
       "    <tr>\n",
       "      <th>1</th>\n",
       "      <td>sx4</td>\n",
       "      <td>2013</td>\n",
       "      <td>4.75</td>\n",
       "      <td>9.54</td>\n",
       "      <td>43000</td>\n",
       "      <td>Diesel</td>\n",
       "      <td>Dealer</td>\n",
       "      <td>Manual</td>\n",
       "      <td>0</td>\n",
       "    </tr>\n",
       "    <tr>\n",
       "      <th>2</th>\n",
       "      <td>ciaz</td>\n",
       "      <td>2017</td>\n",
       "      <td>7.25</td>\n",
       "      <td>9.85</td>\n",
       "      <td>6900</td>\n",
       "      <td>Petrol</td>\n",
       "      <td>Dealer</td>\n",
       "      <td>Manual</td>\n",
       "      <td>0</td>\n",
       "    </tr>\n",
       "    <tr>\n",
       "      <th>3</th>\n",
       "      <td>wagon r</td>\n",
       "      <td>2011</td>\n",
       "      <td>2.85</td>\n",
       "      <td>4.15</td>\n",
       "      <td>5200</td>\n",
       "      <td>Petrol</td>\n",
       "      <td>Dealer</td>\n",
       "      <td>Manual</td>\n",
       "      <td>0</td>\n",
       "    </tr>\n",
       "    <tr>\n",
       "      <th>4</th>\n",
       "      <td>swift</td>\n",
       "      <td>2014</td>\n",
       "      <td>4.60</td>\n",
       "      <td>6.87</td>\n",
       "      <td>42450</td>\n",
       "      <td>Diesel</td>\n",
       "      <td>Dealer</td>\n",
       "      <td>Manual</td>\n",
       "      <td>0</td>\n",
       "    </tr>\n",
       "    <tr>\n",
       "      <th>...</th>\n",
       "      <td>...</td>\n",
       "      <td>...</td>\n",
       "      <td>...</td>\n",
       "      <td>...</td>\n",
       "      <td>...</td>\n",
       "      <td>...</td>\n",
       "      <td>...</td>\n",
       "      <td>...</td>\n",
       "      <td>...</td>\n",
       "    </tr>\n",
       "    <tr>\n",
       "      <th>296</th>\n",
       "      <td>city</td>\n",
       "      <td>2016</td>\n",
       "      <td>9.50</td>\n",
       "      <td>11.60</td>\n",
       "      <td>33988</td>\n",
       "      <td>Diesel</td>\n",
       "      <td>Dealer</td>\n",
       "      <td>Manual</td>\n",
       "      <td>0</td>\n",
       "    </tr>\n",
       "    <tr>\n",
       "      <th>297</th>\n",
       "      <td>brio</td>\n",
       "      <td>2015</td>\n",
       "      <td>4.00</td>\n",
       "      <td>5.90</td>\n",
       "      <td>60000</td>\n",
       "      <td>Petrol</td>\n",
       "      <td>Dealer</td>\n",
       "      <td>Manual</td>\n",
       "      <td>0</td>\n",
       "    </tr>\n",
       "    <tr>\n",
       "      <th>298</th>\n",
       "      <td>city</td>\n",
       "      <td>2009</td>\n",
       "      <td>3.35</td>\n",
       "      <td>11.00</td>\n",
       "      <td>87934</td>\n",
       "      <td>Petrol</td>\n",
       "      <td>Dealer</td>\n",
       "      <td>Manual</td>\n",
       "      <td>0</td>\n",
       "    </tr>\n",
       "    <tr>\n",
       "      <th>299</th>\n",
       "      <td>city</td>\n",
       "      <td>2017</td>\n",
       "      <td>11.50</td>\n",
       "      <td>12.50</td>\n",
       "      <td>9000</td>\n",
       "      <td>Diesel</td>\n",
       "      <td>Dealer</td>\n",
       "      <td>Manual</td>\n",
       "      <td>0</td>\n",
       "    </tr>\n",
       "    <tr>\n",
       "      <th>300</th>\n",
       "      <td>brio</td>\n",
       "      <td>2016</td>\n",
       "      <td>5.30</td>\n",
       "      <td>5.90</td>\n",
       "      <td>5464</td>\n",
       "      <td>Petrol</td>\n",
       "      <td>Dealer</td>\n",
       "      <td>Manual</td>\n",
       "      <td>0</td>\n",
       "    </tr>\n",
       "  </tbody>\n",
       "</table>\n",
       "<p>301 rows × 9 columns</p>\n",
       "</div>"
      ],
      "text/plain": [
       "    Car_Name  Year  Selling_Price  Present_Price  Kms_Driven Fuel_Type  \\\n",
       "0       ritz  2014           3.35           5.59       27000    Petrol   \n",
       "1        sx4  2013           4.75           9.54       43000    Diesel   \n",
       "2       ciaz  2017           7.25           9.85        6900    Petrol   \n",
       "3    wagon r  2011           2.85           4.15        5200    Petrol   \n",
       "4      swift  2014           4.60           6.87       42450    Diesel   \n",
       "..       ...   ...            ...            ...         ...       ...   \n",
       "296     city  2016           9.50          11.60       33988    Diesel   \n",
       "297     brio  2015           4.00           5.90       60000    Petrol   \n",
       "298     city  2009           3.35          11.00       87934    Petrol   \n",
       "299     city  2017          11.50          12.50        9000    Diesel   \n",
       "300     brio  2016           5.30           5.90        5464    Petrol   \n",
       "\n",
       "    Seller_Type Transmission  Owner  \n",
       "0        Dealer       Manual      0  \n",
       "1        Dealer       Manual      0  \n",
       "2        Dealer       Manual      0  \n",
       "3        Dealer       Manual      0  \n",
       "4        Dealer       Manual      0  \n",
       "..          ...          ...    ...  \n",
       "296      Dealer       Manual      0  \n",
       "297      Dealer       Manual      0  \n",
       "298      Dealer       Manual      0  \n",
       "299      Dealer       Manual      0  \n",
       "300      Dealer       Manual      0  \n",
       "\n",
       "[301 rows x 9 columns]"
      ]
     },
     "execution_count": 16,
     "metadata": {},
     "output_type": "execute_result"
    }
   ],
   "source": [
    "df = pd.read_csv(\"car_data.csv\")\n",
    "df"
   ]
  },
  {
   "cell_type": "code",
   "execution_count": 6,
   "id": "82b94a5f-0e6f-4d29-bee9-2425dc33f9b9",
   "metadata": {
    "scrolled": true
   },
   "outputs": [
    {
     "name": "stdout",
     "output_type": "stream",
     "text": [
      "<class 'pandas.core.frame.DataFrame'>\n",
      "RangeIndex: 301 entries, 0 to 300\n",
      "Data columns (total 9 columns):\n",
      " #   Column         Non-Null Count  Dtype  \n",
      "---  ------         --------------  -----  \n",
      " 0   Car_Name       301 non-null    object \n",
      " 1   Year           301 non-null    int64  \n",
      " 2   Selling_Price  301 non-null    float64\n",
      " 3   Present_Price  301 non-null    float64\n",
      " 4   Kms_Driven     301 non-null    int64  \n",
      " 5   Fuel_Type      301 non-null    object \n",
      " 6   Seller_Type    301 non-null    object \n",
      " 7   Transmission   301 non-null    object \n",
      " 8   Owner          301 non-null    int64  \n",
      "dtypes: float64(2), int64(3), object(4)\n",
      "memory usage: 21.3+ KB\n"
     ]
    }
   ],
   "source": [
    "df.info()"
   ]
  },
  {
   "cell_type": "code",
   "execution_count": 7,
   "id": "85b32bd7-0816-421f-b7f2-d755c9046bf2",
   "metadata": {},
   "outputs": [
    {
     "data": {
      "text/plain": [
       "Index(['Car_Name', 'Year', 'Selling_Price', 'Present_Price', 'Kms_Driven',\n",
       "       'Fuel_Type', 'Seller_Type', 'Transmission', 'Owner'],\n",
       "      dtype='object')"
      ]
     },
     "execution_count": 7,
     "metadata": {},
     "output_type": "execute_result"
    }
   ],
   "source": [
    "df.columns"
   ]
  },
  {
   "cell_type": "code",
   "execution_count": 14,
   "id": "bf86cbac-6910-4e60-bd9b-859aa24f6bb1",
   "metadata": {},
   "outputs": [
    {
     "data": {
      "text/plain": [
       "Car_Name          object\n",
       "Year               int64\n",
       "Selling_Price    float64\n",
       "Present_Price    float64\n",
       "Kms_Driven         int64\n",
       "Fuel_Type         object\n",
       "Seller_Type       object\n",
       "Transmission      object\n",
       "Owner              int64\n",
       "dtype: object"
      ]
     },
     "execution_count": 14,
     "metadata": {},
     "output_type": "execute_result"
    }
   ],
   "source": [
    "df.dtypes"
   ]
  },
  {
   "cell_type": "code",
   "execution_count": 16,
   "id": "c7ddfeae-82f2-492d-9885-631aa872622b",
   "metadata": {},
   "outputs": [
    {
     "data": {
      "text/html": [
       "<div>\n",
       "<style scoped>\n",
       "    .dataframe tbody tr th:only-of-type {\n",
       "        vertical-align: middle;\n",
       "    }\n",
       "\n",
       "    .dataframe tbody tr th {\n",
       "        vertical-align: top;\n",
       "    }\n",
       "\n",
       "    .dataframe thead th {\n",
       "        text-align: right;\n",
       "    }\n",
       "</style>\n",
       "<table border=\"1\" class=\"dataframe\">\n",
       "  <thead>\n",
       "    <tr style=\"text-align: right;\">\n",
       "      <th></th>\n",
       "      <th>Year</th>\n",
       "      <th>Selling_Price</th>\n",
       "      <th>Present_Price</th>\n",
       "      <th>Kms_Driven</th>\n",
       "      <th>Owner</th>\n",
       "    </tr>\n",
       "  </thead>\n",
       "  <tbody>\n",
       "    <tr>\n",
       "      <th>count</th>\n",
       "      <td>301.000000</td>\n",
       "      <td>301.000000</td>\n",
       "      <td>301.000000</td>\n",
       "      <td>301.000000</td>\n",
       "      <td>301.000000</td>\n",
       "    </tr>\n",
       "    <tr>\n",
       "      <th>mean</th>\n",
       "      <td>2013.627907</td>\n",
       "      <td>4.661296</td>\n",
       "      <td>7.628472</td>\n",
       "      <td>36947.205980</td>\n",
       "      <td>0.043189</td>\n",
       "    </tr>\n",
       "    <tr>\n",
       "      <th>std</th>\n",
       "      <td>2.891554</td>\n",
       "      <td>5.082812</td>\n",
       "      <td>8.644115</td>\n",
       "      <td>38886.883882</td>\n",
       "      <td>0.247915</td>\n",
       "    </tr>\n",
       "    <tr>\n",
       "      <th>min</th>\n",
       "      <td>2003.000000</td>\n",
       "      <td>0.100000</td>\n",
       "      <td>0.320000</td>\n",
       "      <td>500.000000</td>\n",
       "      <td>0.000000</td>\n",
       "    </tr>\n",
       "    <tr>\n",
       "      <th>25%</th>\n",
       "      <td>2012.000000</td>\n",
       "      <td>0.900000</td>\n",
       "      <td>1.200000</td>\n",
       "      <td>15000.000000</td>\n",
       "      <td>0.000000</td>\n",
       "    </tr>\n",
       "    <tr>\n",
       "      <th>50%</th>\n",
       "      <td>2014.000000</td>\n",
       "      <td>3.600000</td>\n",
       "      <td>6.400000</td>\n",
       "      <td>32000.000000</td>\n",
       "      <td>0.000000</td>\n",
       "    </tr>\n",
       "    <tr>\n",
       "      <th>75%</th>\n",
       "      <td>2016.000000</td>\n",
       "      <td>6.000000</td>\n",
       "      <td>9.900000</td>\n",
       "      <td>48767.000000</td>\n",
       "      <td>0.000000</td>\n",
       "    </tr>\n",
       "    <tr>\n",
       "      <th>max</th>\n",
       "      <td>2018.000000</td>\n",
       "      <td>35.000000</td>\n",
       "      <td>92.600000</td>\n",
       "      <td>500000.000000</td>\n",
       "      <td>3.000000</td>\n",
       "    </tr>\n",
       "  </tbody>\n",
       "</table>\n",
       "</div>"
      ],
      "text/plain": [
       "              Year  Selling_Price  Present_Price     Kms_Driven       Owner\n",
       "count   301.000000     301.000000     301.000000     301.000000  301.000000\n",
       "mean   2013.627907       4.661296       7.628472   36947.205980    0.043189\n",
       "std       2.891554       5.082812       8.644115   38886.883882    0.247915\n",
       "min    2003.000000       0.100000       0.320000     500.000000    0.000000\n",
       "25%    2012.000000       0.900000       1.200000   15000.000000    0.000000\n",
       "50%    2014.000000       3.600000       6.400000   32000.000000    0.000000\n",
       "75%    2016.000000       6.000000       9.900000   48767.000000    0.000000\n",
       "max    2018.000000      35.000000      92.600000  500000.000000    3.000000"
      ]
     },
     "execution_count": 16,
     "metadata": {},
     "output_type": "execute_result"
    }
   ],
   "source": [
    "df.describe()"
   ]
  },
  {
   "cell_type": "code",
   "execution_count": 17,
   "id": "d0760149-7c1f-4cf9-a593-3b335f23ded3",
   "metadata": {},
   "outputs": [
    {
     "name": "stdout",
     "output_type": "stream",
     "text": [
      "1.The average price of all the cars in the dataset is rupees4.661295681063123\n"
     ]
    }
   ],
   "source": [
    "# 1.What is the average prince of all cars in the dataset ?\n",
    "average = df['Selling_Price'].mean()\n",
    "print(f\"1.The average price of all the cars in the dataset is rupees{average}\")"
   ]
  },
  {
   "cell_type": "code",
   "execution_count": 18,
   "id": "49bb28d2-e619-4e57-a613-b68049a33086",
   "metadata": {},
   "outputs": [
    {
     "data": {
      "text/plain": [
       "array(['Petrol', 'Diesel', 'CNG'], dtype=object)"
      ]
     },
     "execution_count": 18,
     "metadata": {},
     "output_type": "execute_result"
    }
   ],
   "source": [
    "#2.What is the most common fuel type in the dataset?\n",
    "df[\"Fuel_Type\"].unique()"
   ]
  },
  {
   "cell_type": "code",
   "execution_count": 20,
   "id": "4b9f9848-9403-4f60-912d-f8723be8a706",
   "metadata": {},
   "outputs": [
    {
     "data": {
      "text/plain": [
       "3"
      ]
     },
     "execution_count": 20,
     "metadata": {},
     "output_type": "execute_result"
    }
   ],
   "source": [
    "df['Fuel_Type'].nunique()"
   ]
  },
  {
   "cell_type": "code",
   "execution_count": 22,
   "id": "75c19022-04b4-4f4d-911a-5a0d32b138bd",
   "metadata": {},
   "outputs": [
    {
     "name": "stdout",
     "output_type": "stream",
     "text": [
      "2.the most common fuel type is Petrol\n"
     ]
    }
   ],
   "source": [
    "common_fueltype = df['Fuel_Type'].mode()[0]\n",
    "print(f'2.the most common fuel type is {common_fueltype}')"
   ]
  },
  {
   "cell_type": "code",
   "execution_count": 23,
   "id": "bb990936-e7f9-4395-ba78-afbbbdf569be",
   "metadata": {},
   "outputs": [
    {
     "name": "stdout",
     "output_type": "stream",
     "text": [
      "3.Shape: (301, 9)\n"
     ]
    }
   ],
   "source": [
    "#3.what is the shape of the dataset?\n",
    "print(\"3.Shape:\",df.shape)"
   ]
  },
  {
   "cell_type": "code",
   "execution_count": 24,
   "id": "55f8a8e1-b9b4-490d-bffc-3b19acd7467a",
   "metadata": {},
   "outputs": [
    {
     "name": "stdout",
     "output_type": "stream",
     "text": [
      "\n",
      "4. Data types:\n",
      " Car_Name          object\n",
      "Year               int64\n",
      "Selling_Price    float64\n",
      "Present_Price    float64\n",
      "Kms_Driven         int64\n",
      "Fuel_Type         object\n",
      "Seller_Type       object\n",
      "Transmission      object\n",
      "Owner              int64\n",
      "dtype: object\n"
     ]
    }
   ],
   "source": [
    "#4.What are the datatypes of the each items of the datasets?\n",
    "#data types\n",
    "print(\"\\n4. Data types:\\n\",df.dtypes)"
   ]
  },
  {
   "cell_type": "code",
   "execution_count": 26,
   "id": "4be2bc74-9cab-44f2-9130-5bd6de0c4c18",
   "metadata": {},
   "outputs": [
    {
     "data": {
      "text/plain": [
       "array([ 3.35,  4.75,  7.25,  2.85,  4.6 ,  9.25,  6.75,  6.5 ,  8.75,\n",
       "        7.45,  6.85,  7.5 ,  6.1 ,  2.25,  7.75,  3.25,  2.65,  4.9 ,\n",
       "        4.4 ,  2.5 ,  2.9 ,  3.  ,  4.15,  6.  ,  1.95,  3.1 ,  2.35,\n",
       "        4.95,  5.5 ,  2.95,  4.65,  0.35,  5.85,  2.55,  1.25,  1.05,\n",
       "        5.8 , 14.9 , 23.  , 18.  , 16.  ,  2.75,  3.6 ,  4.5 ,  4.1 ,\n",
       "       19.99,  6.95, 18.75, 23.5 , 33.  , 19.75,  4.35, 14.25,  3.95,\n",
       "        1.5 ,  5.25, 14.5 , 14.73, 12.5 ,  3.49, 35.  ,  5.9 ,  3.45,\n",
       "        3.8 , 11.25,  3.51,  4.  , 20.75, 17.  ,  7.05,  9.65,  1.75,\n",
       "        1.7 ,  1.65,  1.45,  1.35,  1.2 ,  1.15,  1.11,  1.1 ,  1.  ,\n",
       "        0.95,  0.9 ,  0.75,  0.8 ,  0.78,  0.72,  0.65,  0.6 ,  0.55,\n",
       "        0.52,  0.51,  0.5 ,  0.48,  0.45,  0.42,  0.4 ,  0.38,  0.31,\n",
       "        0.3 ,  0.27,  0.25,  0.2 ,  0.18,  0.17,  0.16,  0.15,  0.12,\n",
       "        0.1 ,  5.75,  5.15,  7.9 ,  4.85, 11.75,  3.15,  6.45,  3.5 ,\n",
       "        8.25,  5.11,  2.7 ,  6.15, 11.45,  3.9 ,  9.1 ,  4.8 ,  2.  ,\n",
       "        5.35,  6.25,  5.95,  5.2 ,  3.75, 12.9 ,  5.  ,  5.4 ,  7.2 ,\n",
       "       10.25,  8.5 ,  8.4 ,  9.15,  6.6 ,  3.65,  8.35,  6.7 ,  5.3 ,\n",
       "       10.9 ,  8.65,  9.7 ,  2.1 ,  8.99,  7.4 ,  5.65, 10.11,  6.4 ,\n",
       "        8.55,  9.5 , 11.5 ])"
      ]
     },
     "execution_count": 26,
     "metadata": {},
     "output_type": "execute_result"
    }
   ],
   "source": [
    "#5.How many cars have selling price greater than 8.4\n",
    "df[\"Selling_Price\"].unique()"
   ]
  },
  {
   "cell_type": "code",
   "execution_count": 28,
   "id": "6cb77767-dd0c-4686-b54a-b36eab21558c",
   "metadata": {},
   "outputs": [
    {
     "name": "stdout",
     "output_type": "stream",
     "text": [
      "\n",
      " 6. Car with highest Present Price:\n",
      "         Car_Name  Present_Price\n",
      "86  land cruiser           92.6\n"
     ]
    }
   ],
   "source": [
    "#6.most expensive car in the dataset?\n",
    "#most expensive car \n",
    "most_exp_car = df[df['Present_Price']==df['Present_Price'].max()]\n",
    "print(\"\\n 6. Car with highest Present Price:\\n\",most_exp_car[['Car_Name','Present_Price']])"
   ]
  },
  {
   "cell_type": "code",
   "execution_count": 29,
   "id": "1e92eab7-9ee7-4397-a6b6-321cfc0bd146",
   "metadata": {},
   "outputs": [
    {
     "name": "stdout",
     "output_type": "stream",
     "text": [
      "\n",
      "7.Missing values:\n",
      " Car_Name         0\n",
      "Year             0\n",
      "Selling_Price    0\n",
      "Present_Price    0\n",
      "Kms_Driven       0\n",
      "Fuel_Type        0\n",
      "Seller_Type      0\n",
      "Transmission     0\n",
      "Owner            0\n",
      "dtype: int64\n"
     ]
    }
   ],
   "source": [
    "#7.Check for the null value in the dataset?\n",
    "#3.missing value \n",
    "print(\"\\n7.Missing values:\\n\",df.isnull().sum())"
   ]
  },
  {
   "cell_type": "code",
   "execution_count": 30,
   "id": "ba6d799b-75df-4708-803b-f6ac36d136dc",
   "metadata": {},
   "outputs": [
    {
     "name": "stdout",
     "output_type": "stream",
     "text": [
      "\n",
      "8.Duplicate records: 2\n",
      "\n",
      "8. Duplicate record: 0      False\n",
      "1      False\n",
      "2      False\n",
      "3      False\n",
      "4      False\n",
      "       ...  \n",
      "296    False\n",
      "297    False\n",
      "298    False\n",
      "299    False\n",
      "300    False\n",
      "Length: 301, dtype: bool\n"
     ]
    }
   ],
   "source": [
    "#8.Check for the duplicate values in the dataset \n",
    "#duplicate records \n",
    "print(\"\\n8.Duplicate records:\",df.duplicated().sum())\n",
    "print(\"\\n8. Duplicate record:\",df.duplicated())"
   ]
  },
  {
   "cell_type": "code",
   "execution_count": 31,
   "id": "348c18eb-83e0-4408-b0cc-b636ab5fecdf",
   "metadata": {},
   "outputs": [
    {
     "data": {
      "text/html": [
       "<div>\n",
       "<style scoped>\n",
       "    .dataframe tbody tr th:only-of-type {\n",
       "        vertical-align: middle;\n",
       "    }\n",
       "\n",
       "    .dataframe tbody tr th {\n",
       "        vertical-align: top;\n",
       "    }\n",
       "\n",
       "    .dataframe thead th {\n",
       "        text-align: right;\n",
       "    }\n",
       "</style>\n",
       "<table border=\"1\" class=\"dataframe\">\n",
       "  <thead>\n",
       "    <tr style=\"text-align: right;\">\n",
       "      <th></th>\n",
       "      <th>Car_Name</th>\n",
       "      <th>Year</th>\n",
       "      <th>Selling_Price</th>\n",
       "      <th>Present_Price</th>\n",
       "      <th>Kms_Driven</th>\n",
       "      <th>Fuel_Type</th>\n",
       "      <th>Seller_Type</th>\n",
       "      <th>Transmission</th>\n",
       "      <th>Owner</th>\n",
       "    </tr>\n",
       "  </thead>\n",
       "  <tbody>\n",
       "    <tr>\n",
       "      <th>17</th>\n",
       "      <td>ertiga</td>\n",
       "      <td>2016</td>\n",
       "      <td>7.75</td>\n",
       "      <td>10.79</td>\n",
       "      <td>43000</td>\n",
       "      <td>Diesel</td>\n",
       "      <td>Dealer</td>\n",
       "      <td>Manual</td>\n",
       "      <td>0</td>\n",
       "    </tr>\n",
       "    <tr>\n",
       "      <th>93</th>\n",
       "      <td>fortuner</td>\n",
       "      <td>2015</td>\n",
       "      <td>23.00</td>\n",
       "      <td>30.61</td>\n",
       "      <td>40000</td>\n",
       "      <td>Diesel</td>\n",
       "      <td>Dealer</td>\n",
       "      <td>Automatic</td>\n",
       "      <td>0</td>\n",
       "    </tr>\n",
       "  </tbody>\n",
       "</table>\n",
       "</div>"
      ],
      "text/plain": [
       "    Car_Name  Year  Selling_Price  Present_Price  Kms_Driven Fuel_Type  \\\n",
       "17    ertiga  2016           7.75          10.79       43000    Diesel   \n",
       "93  fortuner  2015          23.00          30.61       40000    Diesel   \n",
       "\n",
       "   Seller_Type Transmission  Owner  \n",
       "17      Dealer       Manual      0  \n",
       "93      Dealer    Automatic      0  "
      ]
     },
     "execution_count": 31,
     "metadata": {},
     "output_type": "execute_result"
    }
   ],
   "source": [
    "df[df.duplicated()]"
   ]
  },
  {
   "cell_type": "code",
   "execution_count": 32,
   "id": "0c8fb109-0cd3-4455-b22c-75e9231dc25f",
   "metadata": {},
   "outputs": [
    {
     "name": "stdout",
     "output_type": "stream",
     "text": [
      "    Car_Name  Year  Selling_Price  Present_Price  Kms_Driven Fuel_Type  \\\n",
      "15    ertiga  2016           7.75          10.79       43000    Diesel   \n",
      "17    ertiga  2016           7.75          10.79       43000    Diesel   \n",
      "51  fortuner  2015          23.00          30.61       40000    Diesel   \n",
      "93  fortuner  2015          23.00          30.61       40000    Diesel   \n",
      "\n",
      "   Seller_Type Transmission  Owner  \n",
      "15      Dealer       Manual      0  \n",
      "17      Dealer       Manual      0  \n",
      "51      Dealer    Automatic      0  \n",
      "93      Dealer    Automatic      0  \n"
     ]
    }
   ],
   "source": [
    "print(df[df.duplicated(keep=False)])"
   ]
  },
  {
   "cell_type": "code",
   "execution_count": 33,
   "id": "fa4deca3-0c07-46ec-8905-ff962496179e",
   "metadata": {},
   "outputs": [
    {
     "name": "stdout",
     "output_type": "stream",
     "text": [
      "\n",
      " Average Kms Driven: 36947.20598006644\n"
     ]
    }
   ],
   "source": [
    "#9.Average Kms Driven \n",
    "#14.Avg Kms Driven \n",
    "print(\"\\n Average Kms Driven:\",df['Kms_Driven'].mean())"
   ]
  },
  {
   "cell_type": "code",
   "execution_count": 34,
   "id": "cf66e415-9434-4884-bfd3-d864a6c9cc0c",
   "metadata": {},
   "outputs": [
    {
     "name": "stdout",
     "output_type": "stream",
     "text": [
      "\n",
      "10.Avg Selling Price by Car:\n",
      " Car_Name\n",
      "land cruiser           35.000000\n",
      "fortuner               18.685455\n",
      "innova                 12.777778\n",
      "creta                  11.800000\n",
      "elantra                11.600000\n",
      "                         ...    \n",
      "Hero  CBZ Xtreme        0.200000\n",
      "Hero Hunk               0.200000\n",
      "Hero Super Splendor     0.200000\n",
      "Bajaj  ct 100           0.180000\n",
      "Bajaj Discover 125      0.175000\n",
      "Name: Selling_Price, Length: 98, dtype: float64\n"
     ]
    }
   ],
   "source": [
    "#10.Average Selling Price by Car Model \n",
    "print(\"\\n10.Avg Selling Price by Car:\\n\",df.groupby('Car_Name')['Selling_Price'].mean().sort_values(ascending=False))"
   ]
  },
  {
   "cell_type": "code",
   "execution_count": 36,
   "id": "96a196e1-f818-4943-8a23-7ba97766b763",
   "metadata": {},
   "outputs": [
    {
     "name": "stdout",
     "output_type": "stream",
     "text": [
      "\u0015. Percentage of cars by Fule_Type:\n",
      " Fuel_Type\n",
      "Petrol    79.401993\n",
      "Diesel    19.933555\n",
      "CNG        0.664452\n",
      "Name: proportion, dtype: float64\n"
     ]
    }
   ],
   "source": [
    "#11.Percentage of cars by fuel type\n",
    "fuel_percent  = df['Fuel_Type'].value_counts(normalize=True)*100\n",
    "print(\"\\25. Percentage of cars by Fule_Type:\\n\",fuel_percent)"
   ]
  },
  {
   "cell_type": "code",
   "execution_count": 37,
   "id": "47a87cd3-ddab-46a5-a1d4-2c1dbd2b8aaf",
   "metadata": {},
   "outputs": [
    {
     "name": "stdout",
     "output_type": "stream",
     "text": [
      "\n",
      " Car manufactured before 2010: 26\n"
     ]
    }
   ],
   "source": [
    "# 12 Number of car manufactured before 2010\n",
    "before_2010 = df[df['Year'] < 2010].shape[0]\n",
    "print(\"\\n Car manufactured before 2010:\",before_2010)"
   ]
  },
  {
   "cell_type": "code",
   "execution_count": 17,
   "id": "cf9ccff6-6464-4f84-86d7-705050c97e38",
   "metadata": {},
   "outputs": [
    {
     "name": "stdout",
     "output_type": "stream",
     "text": [
      "Most common number of owner : 0\n"
     ]
    }
   ],
   "source": [
    "#13 What is the most common number of owners (from the Owner column)?\n",
    "most_common_owner = df['Owner'].mode()[0]\n",
    "print(\"Most common number of owner :\",most_common_owner)"
   ]
  },
  {
   "cell_type": "code",
   "execution_count": 18,
   "id": "42bf6698-e943-4804-98d4-5ae9d38df5fc",
   "metadata": {},
   "outputs": [
    {
     "name": "stdout",
     "output_type": "stream",
     "text": [
      "Car kms driven: 36947.20598006644\n"
     ]
    }
   ],
   "source": [
    "# 14 What is the average number of kilometers driven (Kms_Driven)?\n",
    "avg_kms_driven = df['Kms_Driven'].mean()\n",
    "print(\"Car kms driven:\",avg_kms_driven)"
   ]
  },
  {
   "cell_type": "code",
   "execution_count": 63,
   "id": "eb200db7-ad39-4b21-a443-7818f4266c88",
   "metadata": {},
   "outputs": [
    {
     "name": "stdout",
     "output_type": "stream",
     "text": [
      "Highest Present Price Car:\n",
      " Car_Name         land cruiser\n",
      "Year                     2010\n",
      "Selling_Price            35.0\n",
      "Present_Price            92.6\n",
      "Kms_Driven              78000\n",
      "Fuel_Type              Diesel\n",
      "Seller_Type            Dealer\n",
      "Transmission           Manual\n",
      "Owner                       0\n",
      "Name: 86, dtype: object\n"
     ]
    }
   ],
   "source": [
    "# 15.Which car has the highest Present_Price?\n",
    "highest_present_price = df.loc[df['Present_Price'].idxmax()]\n",
    "print(\"Highest Present Price Car:\\n\",highest_present_price)"
   ]
  },
  {
   "cell_type": "code",
   "execution_count": 55,
   "id": "e000691b-a113-4a0e-8fb4-1375dbb8ee2e",
   "metadata": {},
   "outputs": [
    {
     "name": "stdout",
     "output_type": "stream",
     "text": [
      "Correlation between Selling_price, present_price and kms_Driven:\n",
      "                Selling_Price  Present_Price  Kms_Driven\n",
      "Selling_Price       1.000000       0.878983    0.029187\n",
      "Present_Price       0.878983       1.000000    0.203647\n",
      "Kms_Driven          0.029187       0.203647    1.000000\n"
     ]
    }
   ],
   "source": [
    "#16 What is the correlation between Selling_Price, Present_Price, and Kms_Driven?\n",
    "correlation = df[['Selling_Price','Present_Price','Kms_Driven']].corr()\n",
    "print(\"Correlation between Selling_price, present_price and kms_Driven:\\n\",correlation)"
   ]
  },
  {
   "cell_type": "code",
   "execution_count": 51,
   "id": "8338784d-7b91-496c-88cf-14b18395f203",
   "metadata": {},
   "outputs": [
    {
     "name": "stdout",
     "output_type": "stream",
     "text": [
      "seller_type has the highest average Selling_Price: Dealer\n"
     ]
    }
   ],
   "source": [
    "#17.Which Seller_Type has the highest average Selling_Price?\n",
    "seller_highest_avg_price = df.groupby('Seller_Type')['Selling_Price'].mean().idxmax()\n",
    "print(\"seller_type has the highest average Selling_Price:\",seller_highest_avg_price)"
   ]
  },
  {
   "cell_type": "code",
   "execution_count": 54,
   "id": "dc0e777b-dfeb-4cb8-a6bc-e68df03ff588",
   "metadata": {},
   "outputs": [
    {
     "name": "stdout",
     "output_type": "stream",
     "text": [
      "fuel type cars:\n",
      " Fuel_Type\n",
      "Petrol    239\n",
      "Diesel     60\n",
      "CNG         2\n",
      "Name: count, dtype: int64\n"
     ]
    }
   ],
   "source": [
    "# 18.How many cars are there of each Fuel_Type?\n",
    "fuel_type_count = df['Fuel_Type'].value_counts()\n",
    "print(\"fuel type cars:\\n\",fuel_type_count)\n"
   ]
  },
  {
   "cell_type": "code",
   "execution_count": 26,
   "id": "ca159218-1359-41d1-bce5-b85535664905",
   "metadata": {},
   "outputs": [
    {
     "name": "stdout",
     "output_type": "stream",
     "text": [
      "one previous owner: 1\n"
     ]
    }
   ],
   "source": [
    "# 19.How many cars have more than one previous owner?\n",
    "more_than_one_owner = df[df['Owner']>1].shape[0]\n",
    "print(\"one previous owner:\",more_than_one_owner)\n"
   ]
  },
  {
   "cell_type": "code",
   "execution_count": 56,
   "id": "ee19f4a4-4657-473b-b0bd-7aab65cb7a10",
   "metadata": {},
   "outputs": [
    {
     "name": "stdout",
     "output_type": "stream",
     "text": [
      "5 most expensive cars:\n",
      "         Car_Name  Selling_Price  Present_Price\n",
      "86  land cruiser           35.0          92.60\n",
      "64      fortuner           33.0          36.23\n",
      "63      fortuner           23.5          35.96\n",
      "51      fortuner           23.0          30.61\n",
      "82        innova           23.0          25.39\n"
     ]
    }
   ],
   "source": [
    "#20.What are the top 5 most expensive cars in the dataset?\n",
    "top_5_expensive = df.nlargest(5,'Selling_Price')[['Car_Name','Selling_Price','Present_Price']]\n",
    "print(\"5 most expensive cars:\\n\",top_5_expensive)"
   ]
  },
  {
   "cell_type": "code",
   "execution_count": 31,
   "id": "ac210f73-fa5a-42a5-897e-1dba9a125c63",
   "metadata": {},
   "outputs": [
    {
     "name": "stdout",
     "output_type": "stream",
     "text": [
      "Average difference between present price and Selling price: 2.967176079734219\n"
     ]
    }
   ],
   "source": [
    "#21.What is the average difference between Present_Price and Selling_Price?\n",
    "avg_price_diff = (df['Present_Price'] - df['Selling_Price']).mean()\n",
    "print(\"Average difference between present price and Selling price:\", avg_price_diff)"
   ]
  },
  {
   "cell_type": "code",
   "execution_count": 57,
   "id": "dfd7af5d-5903-4b44-bc49-5f52f70f4f45",
   "metadata": {},
   "outputs": [
    {
     "name": "stdout",
     "output_type": "stream",
     "text": [
      "Car sold by individual seller vs dealers:\n",
      " Seller_Type\n",
      "Dealer        195\n",
      "Individual    106\n",
      "Name: count, dtype: int64\n"
     ]
    }
   ],
   "source": [
    "# 22.How many cars are being sold by individual sellers vs dealers?\n",
    "seller_type_count = df['Seller_Type'].value_counts()\n",
    "print(\"Car sold by individual seller vs dealers:\\n\",seller_type_count)\n"
   ]
  },
  {
   "cell_type": "code",
   "execution_count": 34,
   "id": "38b7a5ea-c219-49f7-a167-ec682cebfb81",
   "metadata": {},
   "outputs": [
    {
     "name": "stdout",
     "output_type": "stream",
     "text": [
      "cars manufactured before 2010: 26\n"
     ]
    }
   ],
   "source": [
    "# 23.How many cars were manufactured before 2010?\n",
    "cars_before_2010 = df[df['Year']< 2010].shape[0]\n",
    "print(\"cars manufactured before 2010:\",cars_before_2010)\n"
   ]
  },
  {
   "cell_type": "code",
   "execution_count": 35,
   "id": "62b16561-0c6b-4497-be61-d555603893d5",
   "metadata": {},
   "outputs": [
    {
     "name": "stdout",
     "output_type": "stream",
     "text": [
      "highest number of car listings: 2015\n"
     ]
    }
   ],
   "source": [
    "#24.Which year has the highest number of car listings?\n",
    "year_highest_listings = df['Year'].value_counts().idxmax() \n",
    "print(\"highest number of car listings:\",year_highest_listings)"
   ]
  },
  {
   "cell_type": "code",
   "execution_count": 61,
   "id": "9c176e90-69a8-4d39-9b50-f34b637c7216",
   "metadata": {},
   "outputs": [
    {
     "name": "stdout",
     "output_type": "stream",
     "text": [
      "percentage of cars are using diesel vs petrol vs CNG:\n",
      " Fuel_Type\n",
      "Petrol    79.401993\n",
      "Diesel    19.933555\n",
      "CNG        0.664452\n",
      "Name: proportion, dtype: float64\n"
     ]
    }
   ],
   "source": [
    "# 25.What percentage of cars are using diesel vs petrol vs CNG?\n",
    "fuel_type_percentage = df['Fuel_Type'].value_counts(normalize=True)*100\n",
    "print(\"percentage of cars are using diesel vs petrol vs CNG:\\n\",fuel_type_percentage)"
   ]
  },
  {
   "cell_type": "code",
   "execution_count": 62,
   "id": "45a6cb21-633a-4b12-bceb-f79f8b61a83f",
   "metadata": {},
   "outputs": [
    {
     "name": "stdout",
     "output_type": "stream",
     "text": [
      "Highest and lowest kms_driven for each fuel type:\n",
      "              min     max\n",
      "Fuel_Type               \n",
      "CNG        35500   49998\n",
      "Diesel      2071  197176\n",
      "Petrol       500  500000\n"
     ]
    }
   ],
   "source": [
    "#26.What is the highest and lowest Kms_Driven for each fuel type?\n",
    "Kms_stats_per_fuel = df.groupby(\"Fuel_Type\")['Kms_Driven'].agg(['min','max'])\n",
    "print(\"Highest and lowest kms_driven for each fuel type:\\n\",Kms_stats_per_fuel)"
   ]
  },
  {
   "cell_type": "code",
   "execution_count": 59,
   "id": "44d8368a-adf8-431c-ad46-87dff23ed809",
   "metadata": {},
   "outputs": [
    {
     "name": "stdout",
     "output_type": "stream",
     "text": [
      "cars sold with exactly 0 previous owners\n",
      ": 290\n"
     ]
    }
   ],
   "source": [
    "#27.How many cars were sold with exactly 0 previous owners?\n",
    "zero_owner_cars = df[df['Owner']==0].shape[0]\n",
    "print(\"cars sold with exactly 0 previous owners\\n:\",zero_owner_cars)"
   ]
  },
  {
   "cell_type": "code",
   "execution_count": 44,
   "id": "c8c602c3-fc1d-43a8-84c0-937aa8d991e7",
   "metadata": {},
   "outputs": [
    {
     "name": "stdout",
     "output_type": "stream",
     "text": [
      "unique combination of Fule_Type,Seller_Type,and Transmission: 8\n"
     ]
    }
   ],
   "source": [
    "#28.How many unique combinations of Fuel_Type, Seller_Type, and Transmission exist?\n",
    "unique_combinations = df[['Fuel_Type','Seller_Type','Transmission']].drop_duplicates().shape[0]\n",
    "print(\"unique combination of Fule_Type,Seller_Type,and Transmission:\",unique_combinations)"
   ]
  },
  {
   "cell_type": "code",
   "execution_count": 46,
   "id": "c400f450-a924-46a5-9213-48271536114e",
   "metadata": {},
   "outputs": [
    {
     "name": "stdout",
     "output_type": "stream",
     "text": [
      "Average Selling_Price of cars that have more than > 2 previous owner: 2.5\n"
     ]
    }
   ],
   "source": [
    "#29.What is the average Selling_Price of cars that have more than 2 previous owners?\n",
    "avg_price_more_than_2_owners = df[df['Owner'] > 2]['Selling_Price'].mean()\n",
    "print(\"Average Selling_Price of cars that have more than > 2 previous owner:\",avg_price_more_than_2_owners)"
   ]
  },
  {
   "cell_type": "code",
   "execution_count": 47,
   "id": "86844c3d-e5cf-49bc-b743-41198c3e6c0e",
   "metadata": {},
   "outputs": [
    {
     "name": "stdout",
     "output_type": "stream",
     "text": [
      "Selling price is greater than present price: 0\n"
     ]
    }
   ],
   "source": [
    "# 30.Are there any cars where Selling_Price is greater than Present_Price?\n",
    "selling_greater_present = df[df['Selling_Price']>df['Present_Price']].shape[0]\n",
    "print(\"Selling price is greater than present price:\",selling_greater_present)"
   ]
  },
  {
   "cell_type": "code",
   "execution_count": null,
   "id": "23104bf7-0935-4ac5-9592-5b8b7ece76ec",
   "metadata": {},
   "outputs": [],
   "source": []
  }
 ],
 "metadata": {
  "kernelspec": {
   "display_name": "Python 3 (ipykernel)",
   "language": "python",
   "name": "python3"
  },
  "language_info": {
   "codemirror_mode": {
    "name": "ipython",
    "version": 3
   },
   "file_extension": ".py",
   "mimetype": "text/x-python",
   "name": "python",
   "nbconvert_exporter": "python",
   "pygments_lexer": "ipython3",
   "version": "3.12.7"
  }
 },
 "nbformat": 4,
 "nbformat_minor": 5
}
